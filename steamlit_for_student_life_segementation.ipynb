{
  "nbformat": 4,
  "nbformat_minor": 0,
  "metadata": {
    "colab": {
      "provenance": [],
      "authorship_tag": "ABX9TyMrmBNYXHbhdYBCBWa6cLot",
      "include_colab_link": true
    },
    "kernelspec": {
      "name": "python3",
      "display_name": "Python 3"
    },
    "language_info": {
      "name": "python"
    }
  },
  "cells": [
    {
      "cell_type": "markdown",
      "metadata": {
        "id": "view-in-github",
        "colab_type": "text"
      },
      "source": [
        "<a href=\"https://colab.research.google.com/github/Mainabryan/Student-life-segmentation/blob/main/steamlit_for_student_life_segementation.ipynb\" target=\"_parent\"><img src=\"https://colab.research.google.com/assets/colab-badge.svg\" alt=\"Open In Colab\"/></a>"
      ]
    },
    {
      "cell_type": "code",
      "execution_count": 1,
      "metadata": {
        "colab": {
          "base_uri": "https://localhost:8080/"
        },
        "id": "mAX8Nj_MIOuP",
        "outputId": "16f44e06-7b2e-48e6-bde4-1bf773e6369e"
      },
      "outputs": [
        {
          "output_type": "stream",
          "name": "stdout",
          "text": [
            "Collecting streamlit\n",
            "  Downloading streamlit-1.45.1-py3-none-any.whl.metadata (8.9 kB)\n",
            "Requirement already satisfied: altair<6,>=4.0 in /usr/local/lib/python3.11/dist-packages (from streamlit) (5.5.0)\n",
            "Requirement already satisfied: blinker<2,>=1.5.0 in /usr/local/lib/python3.11/dist-packages (from streamlit) (1.9.0)\n",
            "Requirement already satisfied: cachetools<6,>=4.0 in /usr/local/lib/python3.11/dist-packages (from streamlit) (5.5.2)\n",
            "Requirement already satisfied: click<9,>=7.0 in /usr/local/lib/python3.11/dist-packages (from streamlit) (8.2.1)\n",
            "Requirement already satisfied: numpy<3,>=1.23 in /usr/local/lib/python3.11/dist-packages (from streamlit) (2.0.2)\n",
            "Requirement already satisfied: packaging<25,>=20 in /usr/local/lib/python3.11/dist-packages (from streamlit) (24.2)\n",
            "Requirement already satisfied: pandas<3,>=1.4.0 in /usr/local/lib/python3.11/dist-packages (from streamlit) (2.2.2)\n",
            "Requirement already satisfied: pillow<12,>=7.1.0 in /usr/local/lib/python3.11/dist-packages (from streamlit) (11.2.1)\n",
            "Requirement already satisfied: protobuf<7,>=3.20 in /usr/local/lib/python3.11/dist-packages (from streamlit) (5.29.5)\n",
            "Requirement already satisfied: pyarrow>=7.0 in /usr/local/lib/python3.11/dist-packages (from streamlit) (18.1.0)\n",
            "Requirement already satisfied: requests<3,>=2.27 in /usr/local/lib/python3.11/dist-packages (from streamlit) (2.32.3)\n",
            "Requirement already satisfied: tenacity<10,>=8.1.0 in /usr/local/lib/python3.11/dist-packages (from streamlit) (9.1.2)\n",
            "Requirement already satisfied: toml<2,>=0.10.1 in /usr/local/lib/python3.11/dist-packages (from streamlit) (0.10.2)\n",
            "Requirement already satisfied: typing-extensions<5,>=4.4.0 in /usr/local/lib/python3.11/dist-packages (from streamlit) (4.14.0)\n",
            "Collecting watchdog<7,>=2.1.5 (from streamlit)\n",
            "  Downloading watchdog-6.0.0-py3-none-manylinux2014_x86_64.whl.metadata (44 kB)\n",
            "\u001b[2K     \u001b[90m━━━━━━━━━━━━━━━━━━━━━━━━━━━━━━━━━━━━━━━━\u001b[0m \u001b[32m44.3/44.3 kB\u001b[0m \u001b[31m1.2 MB/s\u001b[0m eta \u001b[36m0:00:00\u001b[0m\n",
            "\u001b[?25hRequirement already satisfied: gitpython!=3.1.19,<4,>=3.0.7 in /usr/local/lib/python3.11/dist-packages (from streamlit) (3.1.44)\n",
            "Collecting pydeck<1,>=0.8.0b4 (from streamlit)\n",
            "  Downloading pydeck-0.9.1-py2.py3-none-any.whl.metadata (4.1 kB)\n",
            "Requirement already satisfied: tornado<7,>=6.0.3 in /usr/local/lib/python3.11/dist-packages (from streamlit) (6.4.2)\n",
            "Requirement already satisfied: jinja2 in /usr/local/lib/python3.11/dist-packages (from altair<6,>=4.0->streamlit) (3.1.6)\n",
            "Requirement already satisfied: jsonschema>=3.0 in /usr/local/lib/python3.11/dist-packages (from altair<6,>=4.0->streamlit) (4.24.0)\n",
            "Requirement already satisfied: narwhals>=1.14.2 in /usr/local/lib/python3.11/dist-packages (from altair<6,>=4.0->streamlit) (1.41.0)\n",
            "Requirement already satisfied: gitdb<5,>=4.0.1 in /usr/local/lib/python3.11/dist-packages (from gitpython!=3.1.19,<4,>=3.0.7->streamlit) (4.0.12)\n",
            "Requirement already satisfied: python-dateutil>=2.8.2 in /usr/local/lib/python3.11/dist-packages (from pandas<3,>=1.4.0->streamlit) (2.9.0.post0)\n",
            "Requirement already satisfied: pytz>=2020.1 in /usr/local/lib/python3.11/dist-packages (from pandas<3,>=1.4.0->streamlit) (2025.2)\n",
            "Requirement already satisfied: tzdata>=2022.7 in /usr/local/lib/python3.11/dist-packages (from pandas<3,>=1.4.0->streamlit) (2025.2)\n",
            "Requirement already satisfied: charset-normalizer<4,>=2 in /usr/local/lib/python3.11/dist-packages (from requests<3,>=2.27->streamlit) (3.4.2)\n",
            "Requirement already satisfied: idna<4,>=2.5 in /usr/local/lib/python3.11/dist-packages (from requests<3,>=2.27->streamlit) (3.10)\n",
            "Requirement already satisfied: urllib3<3,>=1.21.1 in /usr/local/lib/python3.11/dist-packages (from requests<3,>=2.27->streamlit) (2.4.0)\n",
            "Requirement already satisfied: certifi>=2017.4.17 in /usr/local/lib/python3.11/dist-packages (from requests<3,>=2.27->streamlit) (2025.4.26)\n",
            "Requirement already satisfied: smmap<6,>=3.0.1 in /usr/local/lib/python3.11/dist-packages (from gitdb<5,>=4.0.1->gitpython!=3.1.19,<4,>=3.0.7->streamlit) (5.0.2)\n",
            "Requirement already satisfied: MarkupSafe>=2.0 in /usr/local/lib/python3.11/dist-packages (from jinja2->altair<6,>=4.0->streamlit) (3.0.2)\n",
            "Requirement already satisfied: attrs>=22.2.0 in /usr/local/lib/python3.11/dist-packages (from jsonschema>=3.0->altair<6,>=4.0->streamlit) (25.3.0)\n",
            "Requirement already satisfied: jsonschema-specifications>=2023.03.6 in /usr/local/lib/python3.11/dist-packages (from jsonschema>=3.0->altair<6,>=4.0->streamlit) (2025.4.1)\n",
            "Requirement already satisfied: referencing>=0.28.4 in /usr/local/lib/python3.11/dist-packages (from jsonschema>=3.0->altair<6,>=4.0->streamlit) (0.36.2)\n",
            "Requirement already satisfied: rpds-py>=0.7.1 in /usr/local/lib/python3.11/dist-packages (from jsonschema>=3.0->altair<6,>=4.0->streamlit) (0.25.1)\n",
            "Requirement already satisfied: six>=1.5 in /usr/local/lib/python3.11/dist-packages (from python-dateutil>=2.8.2->pandas<3,>=1.4.0->streamlit) (1.17.0)\n",
            "Downloading streamlit-1.45.1-py3-none-any.whl (9.9 MB)\n",
            "\u001b[2K   \u001b[90m━━━━━━━━━━━━━━━━━━━━━━━━━━━━━━━━━━━━━━━━\u001b[0m \u001b[32m9.9/9.9 MB\u001b[0m \u001b[31m47.6 MB/s\u001b[0m eta \u001b[36m0:00:00\u001b[0m\n",
            "\u001b[?25hDownloading pydeck-0.9.1-py2.py3-none-any.whl (6.9 MB)\n",
            "\u001b[2K   \u001b[90m━━━━━━━━━━━━━━━━━━━━━━━━━━━━━━━━━━━━━━━━\u001b[0m \u001b[32m6.9/6.9 MB\u001b[0m \u001b[31m63.9 MB/s\u001b[0m eta \u001b[36m0:00:00\u001b[0m\n",
            "\u001b[?25hDownloading watchdog-6.0.0-py3-none-manylinux2014_x86_64.whl (79 kB)\n",
            "\u001b[2K   \u001b[90m━━━━━━━━━━━━━━━━━━━━━━━━━━━━━━━━━━━━━━━━\u001b[0m \u001b[32m79.1/79.1 kB\u001b[0m \u001b[31m4.6 MB/s\u001b[0m eta \u001b[36m0:00:00\u001b[0m\n",
            "\u001b[?25hInstalling collected packages: watchdog, pydeck, streamlit\n",
            "Successfully installed pydeck-0.9.1 streamlit-1.45.1 watchdog-6.0.0\n"
          ]
        }
      ],
      "source": [
        "pip install streamlit\n"
      ]
    },
    {
      "cell_type": "code",
      "source": [
        "# student_clustering_app.py\n",
        "\n",
        "import streamlit as st\n",
        "import pandas as pdimport numpy as np\n",
        "import matplotlib.pyplot as plt\n",
        "import seaborn as sns\n",
        "from sklearn.preprocessing import StandardScaler\n",
        "from sklearn.cluster import KMeans\n",
        "\n",
        "# ---------- Custom Page Setup ----------\n",
        "st.set_page_config(page_title=\"Student Lifestyle Clustering\", layout=\"wide\")\n",
        "\n",
        "# ---------- App Title ----------\n",
        "st.markdown(\"<h1 style='text-align: center; color: #6C63FF;'>🎓 Student Lifestyle Clustering App</h1>\", unsafe_allow_html=True)\n",
        "st.markdown(\"<h4 style='text-align: center; color: grey;'>Cluster students based on lifestyle habits for smarter insights</h4>\", unsafe_allow_html=True)\n",
        "st.markdown(\"---\")\n",
        "\n",
        "# ---------- File Upload ----------\n",
        "uploaded_file = st.file_uploader(\"📁 Upload your student dataset (.csv)\", type=\"csv\")\n",
        "\n",
        "if uploaded_file is not None:\n",
        "    data = pd.read_csv(uploaded_file)\n",
        "    st.success(\"✅ Data uploaded successfully!\")\n",
        "    st.write(\"**📄 Preview of your data:**\")\n",
        "    st.dataframe(data.head(), use_container_width=True)\n",
        "\n",
        "    # ---------- Feature Selection ----------\n",
        "    features = ['Age', 'Gender', 'Study Hours per Week',\n",
        "                'Exercise Frequency (per week)', 'Sleep Hours per Night',\n",
        "                'Cafeteria Spend ($/week)', 'Social Activity Score (1–100)']\n",
        "    X = data[features]\n",
        "\n",
        "    # ---------- Scaling ----------\n",
        "    scaler = StandardScaler()\n",
        "    X_scaled = scaler.fit_transform(X)\n",
        "\n",
        "    # ---------- Elbow Method ----------\n",
        "    inertia = []\n",
        "    for k in range(1, 11):\n",
        "        kmeans = KMeans(n_clusters=k, random_state=42)\n",
        "        kmeans.fit(X_scaled)\n",
        "        inertia.append(kmeans.inertia_)\n",
        "\n",
        "    st.markdown(\"---\")\n",
        "    st.subheader(\"🔍 Determine the Best Number of Clusters (Elbow Method)\")\n",
        "    fig_elbow = plt.figure(figsize=(8, 5))\n",
        "    plt.plot(range(1, 11), inertia, marker='o', linestyle='--', color='#6C63FF')\n",
        "    plt.xlabel(\"Number of Clusters (k)\")\n",
        "    plt.ylabel(\"Inertia\")\n",
        "    plt.title(\"Elbow Curve for Optimal k\")\n",
        "    st.pyplot(fig_elbow)\n",
        "\n",
        "    # ---------- Select k ----------\n",
        "    st.markdown(\"### 📌 Choose the number of clusters\")\n",
        "    k = st.slider(\"Select number of clusters (k)\", min_value=2, max_value=10, value=4)\n",
        "\n",
        "    # ---------- Final Clustering ----------\n",
        "    kmeans = KMeans(n_clusters=k, random_state=42)\n",
        "    labels = kmeans.fit_predict(X_scaled)\n",
        "    data['Cluster'] = labels\n",
        "\n",
        "    # ---------- Cluster Visualization ----------\n",
        "    st.markdown(\"---\")\n",
        "    st.subheader(\"📊 Visualize Student Clusters\")\n",
        "    col1, col2 = st.columns(2)\n",
        "    with col1:\n",
        "        x_axis = st.selectbox(\"🧭 Select X-axis Feature\", features, index=2)\n",
        "    with col2:\n",
        "        y_axis = st.selectbox(\"🧭 Select Y-axis Feature\", features, index=6)\n",
        "\n",
        "    fig_cluster = plt.figure(figsize=(8, 6))\n",
        "    plt.scatter(data[x_axis], data[y_axis], c=data['Cluster'], cmap='tab10', s=60)\n",
        "    plt.xlabel(x_axis)\n",
        "    plt.ylabel(y_axis)\n",
        "    plt.title(\"Cluster Distribution\")\n",
        "    plt.colorbar(label=\"Cluster\")\n",
        "    st.pyplot(fig_cluster)\n",
        "\n",
        "    # ---------- Cluster Summary ----------\n",
        "    st.markdown(\"---\")\n",
        "    st.subheader(\"📈 Cluster Summary Statistics\")\n",
        "    st.dataframe(data.groupby('Cluster')[features].mean().round(2), use_container_width=True)\n",
        "\n",
        "    # ---------- Footer ----------\n",
        "    st.markdown(\"---\")\n",
        "    st.markdown(\"<p style='text-align: center; color: grey;'>🚀 Built by Bryan Waweru | Streamlit Clustering Project</p>\", unsafe_allow_html=True)\n",
        "\n",
        "else:\n",
        "    st.warning(\"📌 Please upload a CSV file to get started.\")\n"
      ],
      "metadata": {
        "colab": {
          "base_uri": "https://localhost:8080/"
        },
        "id": "8fFMTQ_-Iyb2",
        "outputId": "84c9d989-f460-45e2-80bd-fdd010d0ef00"
      },
      "execution_count": 2,
      "outputs": [
        {
          "output_type": "stream",
          "name": "stderr",
          "text": [
            "2025-06-14 06:30:00.527 WARNING streamlit.runtime.scriptrunner_utils.script_run_context: Thread 'MainThread': missing ScriptRunContext! This warning can be ignored when running in bare mode.\n",
            "2025-06-14 06:30:00.538 WARNING streamlit.runtime.scriptrunner_utils.script_run_context: Thread 'MainThread': missing ScriptRunContext! This warning can be ignored when running in bare mode.\n",
            "2025-06-14 06:30:01.296 \n",
            "  \u001b[33m\u001b[1mWarning:\u001b[0m to view this Streamlit app on a browser, run it with the following\n",
            "  command:\n",
            "\n",
            "    streamlit run /usr/local/lib/python3.11/dist-packages/colab_kernel_launcher.py [ARGUMENTS]\n",
            "2025-06-14 06:30:01.300 Thread 'MainThread': missing ScriptRunContext! This warning can be ignored when running in bare mode.\n",
            "2025-06-14 06:30:01.304 Thread 'MainThread': missing ScriptRunContext! This warning can be ignored when running in bare mode.\n",
            "2025-06-14 06:30:01.306 Thread 'MainThread': missing ScriptRunContext! This warning can be ignored when running in bare mode.\n",
            "2025-06-14 06:30:01.308 Thread 'MainThread': missing ScriptRunContext! This warning can be ignored when running in bare mode.\n",
            "2025-06-14 06:30:01.310 Thread 'MainThread': missing ScriptRunContext! This warning can be ignored when running in bare mode.\n",
            "2025-06-14 06:30:01.317 Thread 'MainThread': missing ScriptRunContext! This warning can be ignored when running in bare mode.\n",
            "2025-06-14 06:30:01.321 Thread 'MainThread': missing ScriptRunContext! This warning can be ignored when running in bare mode.\n",
            "2025-06-14 06:30:01.324 Thread 'MainThread': missing ScriptRunContext! This warning can be ignored when running in bare mode.\n",
            "2025-06-14 06:30:01.328 Thread 'MainThread': missing ScriptRunContext! This warning can be ignored when running in bare mode.\n",
            "2025-06-14 06:30:01.331 Thread 'MainThread': missing ScriptRunContext! This warning can be ignored when running in bare mode.\n",
            "2025-06-14 06:30:01.336 Thread 'MainThread': missing ScriptRunContext! This warning can be ignored when running in bare mode.\n",
            "2025-06-14 06:30:01.337 Thread 'MainThread': missing ScriptRunContext! This warning can be ignored when running in bare mode.\n"
          ]
        }
      ]
    },
    {
      "cell_type": "code",
      "source": [
        "%%writefile app.py\n",
        "\n",
        "import streamlit as st\n",
        "import pandas as pd\n",
        "import numpy as np\n",
        "import matplotlib.pyplot as plt\n",
        "import seaborn as sns\n",
        "from sklearn.preprocessing import StandardScaler\n",
        "from sklearn.cluster import KMeans\n",
        "\n",
        "st.set_page_config(page_title=\"Student Lifestyle Clustering\", layout=\"wide\")\n",
        "st.title(\"🎓 Student Lifestyle Clustering App\")\n",
        "\n",
        "uploaded_file = st.file_uploader(\"📁 Upload your student dataset (.csv)\", type=\"csv\")\n",
        "\n",
        "if uploaded_file is not None:\n",
        "    data = pd.read_csv(uploaded_file)\n",
        "    st.success(\"✅ Data uploaded successfully!\")\n",
        "    st.dataframe(data.head())\n",
        "\n",
        "    features = ['Age', 'Gender', 'Study Hours per Week',\n",
        "                'Exercise Frequency (per week)', 'Sleep Hours per Night',\n",
        "                'Cafeteria Spend ($/week)', 'Social Activity Score (1–100)']\n",
        "    X = data[features]\n",
        "\n",
        "    scaler = StandardScaler()\n",
        "    X_scaled = scaler.fit_transform(X)\n",
        "\n",
        "    inertia = []\n",
        "    for k in range(1, 11):\n",
        "        kmeans = KMeans(n_clusters=k, random_state=42)\n",
        "        kmeans.fit(X_scaled)\n",
        "        inertia.append(kmeans.inertia_)\n",
        "\n",
        "    st.subheader(\"🔍 Elbow Method to Choose k\")\n",
        "    fig_elbow = plt.figure()\n",
        "    plt.plot(range(1, 11), inertia, marker='o', linestyle='--', color='teal')\n",
        "    plt.xlabel(\"Number of Clusters (k)\")\n",
        "    plt.ylabel(\"Inertia\")\n",
        "    plt.title(\"Elbow Method Plot\")\n",
        "    st.pyplot(fig_elbow)\n",
        "\n",
        "    k = st.slider(\"Select number of clusters\", 2, 10, 4)\n",
        "    kmeans = KMeans(n_clusters=k, random_state=42)\n",
        "    labels = kmeans.fit_predict(X_scaled)\n",
        "    data['Cluster'] = labels\n",
        "\n",
        "    x_axis = st.selectbox(\"X-axis Feature\", features, index=2)\n",
        "    y_axis = st.selectbox(\"Y-axis Feature\", features, index=6)\n",
        "\n",
        "    st.subheader(\"📊 Cluster Visualization\")\n",
        "    fig_cluster = plt.figure()\n",
        "    plt.scatter(data[x_axis], data[y_axis], c=data['Cluster'], cmap='tab10', s=60)\n",
        "    plt.xlabel(x_axis)\n",
        "    plt.ylabel(y_axis)\n",
        "    plt.title(\"Cluster Visualization\")\n",
        "    plt.colorbar(label=\"Cluster\")\n",
        "    st.pyplot(fig_cluster)\n",
        "\n",
        "    st.subheader(\"📈 Cluster Summary Stats\")\n",
        "    st.dataframe(data.groupby(\"Cluster\")[features].mean().round(2))\n",
        "else:\n",
        "    st.warning(\"📌 Please upload a CSV file to continue.\")\n"
      ],
      "metadata": {
        "colab": {
          "base_uri": "https://localhost:8080/"
        },
        "id": "tT2FZiZOK24J",
        "outputId": "235fc6d3-ebe9-42de-f65f-3a3ed12e268a"
      },
      "execution_count": 3,
      "outputs": [
        {
          "output_type": "stream",
          "name": "stdout",
          "text": [
            "Writing app.py\n"
          ]
        }
      ]
    },
    {
      "cell_type": "code",
      "source": [
        "!pip install streamlit localtunnel -q\n",
        "\n",
        "# Show your public IP (for debugging)\n",
        "!wget -q -O - ipv4.icanhazip.com\n",
        "\n",
        "# Start Streamlit app and expose with localtunnel\n",
        "!streamlit run app.py & npx localtunnel --port 8501"
      ],
      "metadata": {
        "colab": {
          "base_uri": "https://localhost:8080/"
        },
        "id": "ce1m4q3fK50k",
        "outputId": "8ed3697c-0410-40b6-aa70-5d63302b1184"
      },
      "execution_count": 4,
      "outputs": [
        {
          "output_type": "stream",
          "name": "stdout",
          "text": [
            "\u001b[31mERROR: Could not find a version that satisfies the requirement localtunnel (from versions: none)\u001b[0m\u001b[31m\n",
            "\u001b[0m\u001b[31mERROR: No matching distribution found for localtunnel\u001b[0m\u001b[31m\n",
            "\u001b[0m34.71.26.51\n",
            "\n",
            "Collecting usage statistics. To deactivate, set browser.gatherUsageStats to false.\n",
            "\u001b[0m\n",
            "\u001b[1G\u001b[0K⠙\u001b[0m\n",
            "\u001b[34m\u001b[1m  You can now view your Streamlit app in your browser.\u001b[0m\n",
            "\u001b[0m\n",
            "\u001b[34m  Local URL: \u001b[0m\u001b[1mhttp://localhost:8501\u001b[0m\n",
            "\u001b[34m  Network URL: \u001b[0m\u001b[1mhttp://172.28.0.12:8501\u001b[0m\n",
            "\u001b[34m  External URL: \u001b[0m\u001b[1mhttp://34.71.26.51:8501\u001b[0m\n",
            "\u001b[0m\n",
            "\u001b[1G\u001b[0K⠹\u001b[1G\u001b[0K⠸\u001b[1G\u001b[0K⠼\u001b[1G\u001b[0K⠴\u001b[1G\u001b[0K\u001b[1G\u001b[0JNeed to install the following packages:\n",
            "localtunnel@2.0.2\n",
            "Ok to proceed? (y) \u001b[20Gmaishayaufala\n",
            "\n",
            "\u001b[1G\u001b[0K⠙\u001b[1G\u001b[0K\u001b[1mnpm\u001b[22m \u001b[31merror\u001b[39m canceled\n",
            "\u001b[1G\u001b[0K⠙\u001b[1G\u001b[0K\u001b[1mnpm\u001b[22m \u001b[31merror\u001b[39m A complete log of this run can be found in: /root/.npm/_logs/2025-06-14T06_39_23_339Z-debug-0.log\n",
            "\u001b[1G\u001b[0K⠙\u001b[1G\u001b[0K\u001b[34m  Stopping...\u001b[0m\n"
          ]
        }
      ]
    }
  ]
}